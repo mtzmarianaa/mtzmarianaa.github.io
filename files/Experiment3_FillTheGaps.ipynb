{
 "cells": [
  {
   "cell_type": "code",
   "execution_count": 29,
   "metadata": {},
   "outputs": [],
   "source": [
    "import numpy as np \n",
    "import matplotlib\n",
    "\n",
    "def apGrad(f, x, h = 0.001):\n",
    "    return( (f(x+h)-f(x))/h   )\n",
    "    \n",
    "\n",
    "def newton(f, x0, tol, max_iter = 100):\n",
    "    xn = x0\n",
    "    for n in range(0,max_iter):\n",
    "        fxn = f(xn)\n",
    "        if abs(fxn) < tol:\n",
    "            print('Found solution after',n,'iterations.')\n",
    "            return xn\n",
    "        Dfxn = apGrad(f, xn)\n",
    "        if Dfxn == 0:\n",
    "            print('Zero derivative. No solution found.')\n",
    "            return None\n",
    "        xn = xn - fxn/Dfxn\n",
    "    print('Exceeded maximum iterations. No solution found.')\n",
    "    return None\n",
    "\n",
    "def function_tes(x):\n",
    "    return( (x-2)*(x+3)  )\n",
    "\n",
    "def function_bad(x):\n",
    "    return(x**2)\n",
    "\n",
    "def function_superBad(x):\n",
    "    return(x**5)\n",
    "\n",
    "def function_chaos(x):\n",
    "    return(x**50)"
   ]
  },
  {
   "cell_type": "code",
   "execution_count": 34,
   "metadata": {},
   "outputs": [
    {
     "name": "stdout",
     "output_type": "stream",
     "text": [
      "Found solution after 9 iterations.\n",
      "2.000000003372078\n"
     ]
    }
   ],
   "source": [
    "x = newton(function_tes, 100, 1e-06)\n",
    "print(x)"
   ]
  },
  {
   "cell_type": "code",
   "execution_count": 33,
   "metadata": {},
   "outputs": [
    {
     "name": "stdout",
     "output_type": "stream",
     "text": [
      "Found solution after 8 iterations.\n",
      "0.002018271330085455\n",
      "Found solution after 16 iterations.\n",
      "0.0019828301615753777\n"
     ]
    }
   ],
   "source": [
    "x = newton(function_bad, 0.4, 1e-05)\n",
    "print(x)\n",
    "x =  newton(function_bad, 100, 1e-05)\n",
    "print(x)"
   ]
  },
  {
   "cell_type": "code",
   "execution_count": 36,
   "metadata": {},
   "outputs": [
    {
     "name": "stdout",
     "output_type": "stream",
     "text": [
      "Found solution after 5 iterations.\n",
      "0.09964064481599835\n",
      "Found solution after 32 iterations.\n",
      "0.0812155626947812\n"
     ]
    }
   ],
   "source": [
    "x = newton(function_superBad, 0.3, 1e-05)\n",
    "print(x)\n",
    "x =  newton(function_superBad, 100, 1e-05)\n",
    "print(x)"
   ]
  },
  {
   "cell_type": "code",
   "execution_count": 39,
   "metadata": {},
   "outputs": [
    {
     "name": "stdout",
     "output_type": "stream",
     "text": [
      "Found solution after 1 iterations.\n",
      "0.7844847973396151\n",
      "Exceeded maximum iterations. No solution found.\n",
      "None\n"
     ]
    }
   ],
   "source": [
    "x = newton(function_chaos, 0.8, 1e-05)\n",
    "print(x)\n",
    "x =  newton(function_chaos, 100, 1e-05)\n",
    "print(x)"
   ]
  },
  {
   "cell_type": "code",
   "execution_count": 12,
   "metadata": {},
   "outputs": [],
   "source": [
    "def lu(A):\n",
    "    \n",
    "    #Get the number of rows\n",
    "    n = A.shape[0]\n",
    "    \n",
    "    U = A.copy()\n",
    "    L = np.eye(n, dtype=np.double)\n",
    "    \n",
    "    #Loop over rows\n",
    "    for i in range(n):\n",
    "            \n",
    "        # Gaussian elminination\n",
    "        \n",
    "        factor = # Which are the values on the original matrix you want to get rid of\n",
    "                # using Gaussian elimination?\n",
    "        L[i+1:, i] = # We want to eliminate these from the original matrix\n",
    "                     # but we want to keep that information in the L matrix\n",
    "        U[i+1:] -= # ELIMINATE doing Gaussian elimination after saving them in \n",
    "                   # another matrix - the L matrix\n",
    "        \n",
    "    return L, U\n",
    "\n"
   ]
  },
  {
   "cell_type": "code",
   "execution_count": 40,
   "metadata": {},
   "outputs": [
    {
     "name": "stdout",
     "output_type": "stream",
     "text": [
      "[[1. 4. 7.]\n",
      " [9. 5. 3.]\n",
      " [1. 4. 8.]]\n",
      "----\n",
      "[9. 1.]\n",
      "1.0\n",
      "----\n",
      "[9. 1.]\n",
      "(2,)\n",
      "----\n",
      "[[1. 0. 0.]\n",
      " [9. 1. 0.]\n",
      " [1. 0. 1.]]\n",
      "[[9.]\n",
      " [1.]]\n",
      "----\n",
      "[[  1.   4.   7.]\n",
      " [  0. -31. -60.]\n",
      " [  0.   0.   1.]]\n"
     ]
    }
   ],
   "source": [
    "A = np.array( [ [1, 4, 7.], [9, 5, 3], [1, 4, 8]  ]  )\n",
    "n = A.shape[0]\n",
    "U = A.copy()\n",
    "L = np.eye(n, dtype=np.double)\n",
    "print(U)\n",
    "print( \"----\")\n",
    "\n",
    "i = 0\n",
    "factor = U[i+1:, i] / U[i, i]\n",
    "L[i+1:, i] = factor\n",
    "\n",
    "print( U[i+1:, i] )\n",
    "print( U[i, i] )\n",
    "print(\"----\")\n",
    "print(factor)\n",
    "print( factor.shape )\n",
    "print(\"----\")\n",
    "print(L)\n",
    "print(factor[:, np.newaxis])\n",
    "print(\"----\")\n",
    "U[i+1:] -= factor[:, np.newaxis] * U[i]\n",
    "print(U)"
   ]
  },
  {
   "cell_type": "code",
   "execution_count": 44,
   "metadata": {},
   "outputs": [
    {
     "name": "stdout",
     "output_type": "stream",
     "text": [
      "[[ 1.          0.          0.        ]\n",
      " [-2.          1.          0.        ]\n",
      " [-0.         -0.13333333  1.        ]]\n",
      "----\n",
      "[[-7.  11.  18. ]\n",
      " [ 0.  15.  33. ]\n",
      " [ 0.   0.   5.4]]\n"
     ]
    }
   ],
   "source": [
    "A = np.array( [ [-7,11,18.], [14,-7,-3], [0,-2,1]  ] )\n",
    "L, U = lu(A)\n",
    "print(L)\n",
    "print('----')\n",
    "print(U)"
   ]
  }
 ],
 "metadata": {
  "interpreter": {
   "hash": "aee8b7b246df8f9039afb4144a1f6fd8d2ca17a180786b69acc140d282b71a49"
  },
  "kernelspec": {
   "display_name": "Python 3.9.6 64-bit",
   "language": "python",
   "name": "python3"
  },
  "language_info": {
   "codemirror_mode": {
    "name": "ipython",
    "version": 3
   },
   "file_extension": ".py",
   "mimetype": "text/x-python",
   "name": "python",
   "nbconvert_exporter": "python",
   "pygments_lexer": "ipython3",
   "version": "3.9.6"
  },
  "orig_nbformat": 4
 },
 "nbformat": 4,
 "nbformat_minor": 2
}
